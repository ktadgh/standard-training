{
 "cells": [
  {
   "cell_type": "code",
   "execution_count": 1,
   "metadata": {},
   "outputs": [],
   "source": [
    "import torch\n",
    "import sys\n",
    "import os\n",
    "os.environ[\"K_DIFFUSION_USE_COMPILE\"] = \"0\"\n",
    "\n",
    "import k_diffusion as K\n",
    "import torch._C._onnx as _C_onnx\n",
    "from torchinfo import summary\n",
    "import cv2\n",
    "import numpy as np\n",
    "import torchvision\n",
    "\n",
    "import pynvml\n",
    "import onnxruntime as ort\n",
    "import os\n",
    "import torch.nn as nn\n",
    "from PIL import Image"
   ]
  },
  {
   "cell_type": "code",
   "execution_count": 15,
   "metadata": {},
   "outputs": [],
   "source": [
    "torch.set_float32_matmul_precision('high')"
   ]
  },
  {
   "cell_type": "code",
   "execution_count": 16,
   "metadata": {},
   "outputs": [
    {
     "name": "stdout",
     "output_type": "stream",
     "text": [
      "85.0793\n"
     ]
    }
   ],
   "source": [
    "config = \"/home/ubuntu/transformer-distillation/configs/hdit_shifted_window.json\"\n",
    "config = K.config.load_config(config)\n",
    "\n",
    "model = K.config.make_model(config).cuda()\n",
    "\n",
    "dct = torch.load(\"200_net_G_hdit.pth\")#.keys()\n",
    "dct = {\n",
    "    key.replace('model.', ''): value for key, value in dct.items()\n",
    "}\n",
    "\n",
    "model.load_state_dict(dct)\n",
    "final_activation_function = nn.Tanh()\n",
    "print(sum([p.numel() for p in model.parameters()]) / 1e6)\n",
    "model.eval()\n",
    "\n",
    "img = torch.from_numpy(np.array(Image.open(\"input_0_24_62.png\")))\n",
    "img = img / 255.\n",
    "img = img * 2. - 1.\n",
    "img = img.transpose(-1, -2).transpose(-2, -3).unsqueeze(0).cuda()\n",
    "\n",
    "cst = torch.ones((img.shape[0])).cuda() * 500\n",
    "with torch.no_grad(): out = final_activation_function(model(img, cst)[0])\n",
    "\n",
    "out = out / 2. + .5\n",
    "out = out.squeeze(0).transpose(0, 1).transpose(1, 2)\n",
    "out = Image.fromarray((out.data.cpu().numpy() * 255.).astype(np.uint8))\n",
    "out.save('out_shifted.png')"
   ]
  },
  {
   "cell_type": "code",
   "execution_count": 17,
   "metadata": {},
   "outputs": [],
   "source": [
    "class MyModel(torch.nn.Module):\n",
    "    def __init__(self, model, device):\n",
    "        super(MyModel, self).__init__()\n",
    "        # Example: simple linear layer\n",
    "        self.cst = torch.ones((1)).to(device) *500\n",
    "        self.model = model\n",
    "\n",
    "    def forward(self, img):\n",
    "        x  = self.model(img,self.cst)\n",
    "        return x"
   ]
  },
  {
   "cell_type": "code",
   "execution_count": 18,
   "metadata": {},
   "outputs": [
    {
     "name": "stderr",
     "output_type": "stream",
     "text": [
      "/home/ubuntu/transformer-distillation/k-diffusion-onnx/k_diffusion/models/axial_rope.py:54: TracerWarning: torch.tensor results are registered as constants in the trace. You can safely ignore this warning if you use this function to create tensors out of constant variables that would be the same every time you call this function. In any other case, this might cause the trace to be incorrect.\n",
      "  y_min = torch.max(torch.tensor(-1), -1 / ar_adj)\n",
      "/home/ubuntu/transformer-distillation/k-diffusion-onnx/k_diffusion/models/axial_rope.py:55: TracerWarning: torch.tensor results are registered as constants in the trace. You can safely ignore this warning if you use this function to create tensors out of constant variables that would be the same every time you call this function. In any other case, this might cause the trace to be incorrect.\n",
      "  y_max = torch.min(torch.tensor(1), 1 / ar_adj)\n",
      "/home/ubuntu/transformer-distillation/k-diffusion-onnx/k_diffusion/models/axial_rope.py:57: TracerWarning: torch.tensor results are registered as constants in the trace. You can safely ignore this warning if you use this function to create tensors out of constant variables that would be the same every time you call this function. In any other case, this might cause the trace to be incorrect.\n",
      "  x_min = torch.max(torch.tensor(-1), -ar_adj)\n",
      "/home/ubuntu/transformer-distillation/k-diffusion-onnx/k_diffusion/models/axial_rope.py:58: TracerWarning: torch.tensor results are registered as constants in the trace. You can safely ignore this warning if you use this function to create tensors out of constant variables that would be the same every time you call this function. In any other case, this might cause the trace to be incorrect.\n",
      "  x_max = torch.min(torch.tensor(1), ar_adj)\n",
      "/home/ubuntu/transformer-distillation/k-diffusion-onnx/k_diffusion/models/image_transformer_v2.py:456: TracerWarning: Converting a tensor to a Python integer might cause the trace to be incorrect. We can't record the data flow of Python values, so this value will be treated as a constant in the future. This means that the trace might not generalize to other inputs!\n",
      "  nh = int(t_nh_e / (t*e))\n"
     ]
    }
   ],
   "source": [
    "model.eval()\n",
    "\n",
    "pmodel = MyModel(model, 'cpu')\n",
    "of = 'original-for-q02.onnx'\n",
    "input = torch.tensor(cv2.imread('input_0_24_62.png')).permute(2,0,1).unsqueeze(0).cuda()/255.\n",
    "input = input*2 -1\n",
    "torch.onnx.export(pmodel.cpu(), (input.cpu()), of,do_constant_folding=True, export_params=True,input_names = ['input'],output_names = ['output'], verbose=False)"
   ]
  },
  {
   "cell_type": "code",
   "execution_count": null,
   "metadata": {},
   "outputs": [],
   "source": [
    "import onnx\n",
    "from onnx import shape_inference\n",
    "\n",
    "# Load the ONNX model\n",
    "model_path = 'original-for-q02.onnx'\n",
    "model = onnx.load(model_path)\n",
    "\n",
    "# Perform shape inference\n",
    "inferred_model = shape_inference.infer_shapes(model)\n",
    "\n",
    "# Save the inferred model (optional)\n",
    "onnx.save(inferred_model, 'original-for-q-shape.onnx')\n"
   ]
  },
  {
   "cell_type": "code",
   "execution_count": null,
   "metadata": {},
   "outputs": [],
   "source": [
    "import onnxruntime as ort\n",
    "import torch\n",
    "import numpy as np"
   ]
  },
  {
   "cell_type": "code",
   "execution_count": null,
   "metadata": {},
   "outputs": [
    {
     "name": "stdout",
     "output_type": "stream",
     "text": [
      "85.0793\n"
     ]
    }
   ],
   "source": [
    "print(sum([p.numel() for p in pmodel.parameters()]) / 1e6)"
   ]
  },
  {
   "cell_type": "code",
   "execution_count": null,
   "metadata": {},
   "outputs": [],
   "source": [
    "input=torch.rand(1,3,1024,1024)\n",
    "providers = [\n",
    "    ('CPUExecutionProvider', {\n",
    "        'device_id': 0, # The device ID\n",
    "        # 'trt_max_workspace_size': 4e9, # Maximum workspace size for TensorRT engine (1e9 ≈ 1GB)\n",
    "        # 'trt_engine_cache_enable': False, # Enable TensorRT engine caching\n",
    "        # # 'trt_engine_cache_path': str(trt_cache_dir), # Path for TensorRT engine, profile files, and int8 calibration table\n",
    "        # 'trt_int8_enable': True, # Enable int8 mode in TensorRT\n",
    "    })\n",
    "]\n",
    "\n",
    "# providers = [\n",
    "#     ('CUDAExecutionProvider')]\n",
    "\n",
    "sess_options = ort.SessionOptions()\n",
    "sess_options.graph_optimization_level = ort.GraphOptimizationLevel.ORT_DISABLE_ALL\n",
    "sess_options.enable_mem_pattern = False\n",
    "sess_options.use_deterministic_compute = True\n",
    "sess_options.execution_mode = ort.ExecutionMode.ORT_SEQUENTIAL\n",
    "sess_options.enable_cpu_mem_arena = False\n",
    "\n",
    "\n",
    "\n",
    "session = ort.InferenceSession(\"original-for-q02.onnx\",sess_options,providers=providers)\n",
    "\n",
    "# Run inference with ONNX Runtime\n",
    "input_data = input.cpu().numpy().astype(np.float32)\n",
    "ort_inputs = {session.get_inputs()[0].name: input_data}\n",
    "# start = torch.cuda.Event(enable_timing=True)\n",
    "# end = torch.cuda.Event(enable_timing=True)\n",
    "\n",
    "    # start.record()\n",
    "onnx_output = session.run(None, ort_inputs)\n",
    "    # end.record()\n",
    "    # print(start.elapsed_time(end))\n",
    "# Compare the outputs"
   ]
  },
  {
   "cell_type": "code",
   "execution_count": null,
   "metadata": {},
   "outputs": [],
   "source": [
    "out = torch.tanh(torch.tensor(onnx_output[0]))\n",
    "out = out / 2. + .5\n"
   ]
  },
  {
   "cell_type": "code",
   "execution_count": null,
   "metadata": {},
   "outputs": [],
   "source": [
    "outim = np.transpose(out[0].data.cpu().numpy(), (1,2,0))"
   ]
  },
  {
   "cell_type": "code",
   "execution_count": null,
   "metadata": {},
   "outputs": [],
   "source": [
    "out = Image.fromarray((outim * 255.).astype(np.uint8))\n",
    "out.save('out_shifted.png')"
   ]
  },
  {
   "cell_type": "code",
   "execution_count": null,
   "metadata": {},
   "outputs": [],
   "source": []
  },
  {
   "cell_type": "code",
   "execution_count": null,
   "metadata": {},
   "outputs": [],
   "source": []
  }
 ],
 "metadata": {
  "kernelspec": {
   "display_name": "k-diff-dist",
   "language": "python",
   "name": "python3"
  },
  "language_info": {
   "codemirror_mode": {
    "name": "ipython",
    "version": 3
   },
   "file_extension": ".py",
   "mimetype": "text/x-python",
   "name": "python",
   "nbconvert_exporter": "python",
   "pygments_lexer": "ipython3",
   "version": "3.11.9"
  }
 },
 "nbformat": 4,
 "nbformat_minor": 2
}
